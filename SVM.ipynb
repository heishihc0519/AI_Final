{
 "cells": [
  {
   "cell_type": "code",
   "execution_count": 1,
   "metadata": {
    "collapsed": false
   },
   "outputs": [
    {
     "name": "stderr",
     "output_type": "stream",
     "text": [
      "/usr/local/lib/python2.7/site-packages/sklearn/cross_validation.py:44: DeprecationWarning: This module was deprecated in version 0.18 in favor of the model_selection module into which all the refactored classes and functions are moved. Also note that the interface of the new CV iterators are different from that of this module. This module will be removed in 0.20.\n",
      "  \"This module will be removed in 0.20.\", DeprecationWarning)\n",
      "/usr/local/lib/python2.7/site-packages/sklearn/grid_search.py:43: DeprecationWarning: This module was deprecated in version 0.18 in favor of the model_selection module into which all the refactored classes and functions are moved. This module will be removed in 0.20.\n",
      "  DeprecationWarning)\n",
      "/usr/local/lib/python2.7/site-packages/pandas/computation/__init__.py:19: UserWarning: The installed version of numexpr 2.4.4 is not supported in pandas and will be not be used\n",
      "\n",
      "  UserWarning)\n"
     ]
    },
    {
     "name": "stdout",
     "output_type": "stream",
     "text": [
      "default parameter:\n",
      "0.752529898804\n"
     ]
    }
   ],
   "source": [
    "from sklearn import svm\n",
    "from sklearn.model_selection import train_test_split\n",
    "from sklearn.cross_validation import cross_val_score\n",
    "from sklearn import grid_search\n",
    "import pandas as pd\n",
    "\n",
    "# Train data\n",
    "df = pd.read_csv('LargeTrain.csv')\n",
    "\n",
    "# columns\n",
    "columns =  list(df.columns.values)\n",
    "\n",
    "# data and target\n",
    "X = df[ ['IsValidCodePage','Img86', 'Img48', '_onexit', 'GetIconInfo', 'ent_p_7', 'Img47', 'Img10', 'GetSystemTime', 'Img33'] ]\n",
    "Y = df['Class']\n",
    "\n",
    "# Cross-validation\n",
    "X_train, X_test, y_train, y_test = train_test_split( X, Y, test_size=0.4, random_state=0)\n",
    "\n",
    "# create model\n",
    "clf = svm.SVC()\n",
    "\n",
    "# fitting model\n",
    "clf.fit(X_train, y_train)\n",
    "\n",
    "# test data\n",
    "print \"default parameter:\"\n",
    "print clf.score(X_test, y_test)\n"
   ]
  },
  {
   "cell_type": "code",
   "execution_count": 2,
   "metadata": {
    "collapsed": false
   },
   "outputs": [
    {
     "name": "stdout",
     "output_type": "stream",
     "text": [
      "(1, 0.72455978108470587)\n",
      "(5, 0.74802390798241625)\n",
      "(10, 0.747409226726097)\n"
     ]
    }
   ],
   "source": [
    "# CV\n",
    "depth = []\n",
    "for i in [1,5,10]:\n",
    "    clf = svm.SVC(C=i)\n",
    "    # Perform 5-fold cross validation \n",
    "    scores = cross_val_score(clf, X_train, y_train, cv=5)\n",
    "    depth.append((i,scores.mean()))\n",
    "for i in depth:\n",
    "    print i"
   ]
  },
  {
   "cell_type": "code",
   "execution_count": null,
   "metadata": {
    "collapsed": false
   },
   "outputs": [],
   "source": [
    "# grid_search\n",
    "parameters = {'C':[1,5,10],'kernel':['linear', 'rbf'],'gamma':[1e-1,1,1e1]}\n",
    "clf = grid_search.GridSearchCV(svm.SVC(), parameters)\n",
    "clf.fit(X_train , y_train)\n",
    "tree_model = clf.best_estimator_\n",
    "print (clf.best_score_, clf.best_params_) "
   ]
  },
  {
   "cell_type": "code",
   "execution_count": null,
   "metadata": {
    "collapsed": true
   },
   "outputs": [],
   "source": []
  }
 ],
 "metadata": {
  "anaconda-cloud": {},
  "kernelspec": {
   "display_name": "Python 2",
   "language": "python",
   "name": "python2"
  },
  "language_info": {
   "codemirror_mode": {
    "name": "ipython",
    "version": 2
   },
   "file_extension": ".py",
   "mimetype": "text/x-python",
   "name": "python",
   "nbconvert_exporter": "python",
   "pygments_lexer": "ipython2",
   "version": "2.7.12"
  }
 },
 "nbformat": 4,
 "nbformat_minor": 1
}
