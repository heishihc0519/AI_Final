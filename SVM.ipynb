{
 "cells": [
  {
   "cell_type": "code",
   "execution_count": 1,
   "metadata": {
    "collapsed": false
   },
   "outputs": [
    {
     "name": "stderr",
     "output_type": "stream",
     "text": [
      "/usr/local/lib/python2.7/site-packages/sklearn/cross_validation.py:44: DeprecationWarning: This module was deprecated in version 0.18 in favor of the model_selection module into which all the refactored classes and functions are moved. Also note that the interface of the new CV iterators are different from that of this module. This module will be removed in 0.20.\n",
      "  \"This module will be removed in 0.20.\", DeprecationWarning)\n",
      "/usr/local/lib/python2.7/site-packages/sklearn/grid_search.py:43: DeprecationWarning: This module was deprecated in version 0.18 in favor of the model_selection module into which all the refactored classes and functions are moved. This module will be removed in 0.20.\n",
      "  DeprecationWarning)\n",
      "/usr/local/lib/python2.7/site-packages/pandas/computation/__init__.py:19: UserWarning: The installed version of numexpr 2.4.4 is not supported in pandas and will be not be used\n",
      "\n",
      "  UserWarning)\n"
     ]
    },
    {
     "name": "stdout",
     "output_type": "stream",
     "text": [
      "Random forest selection feature\n",
      "default parameter:\n",
      "0.752529898804\n"
     ]
    }
   ],
   "source": [
    "from sklearn import svm\n",
    "from sklearn.model_selection import train_test_split\n",
    "from sklearn.cross_validation import cross_val_score\n",
    "from sklearn import grid_search\n",
    "import pandas as pd\n",
    "\n",
    "# Train data\n",
    "df = pd.read_csv('LargeTrain.csv')\n",
    "\n",
    "# columns\n",
    "columns =  list(df.columns.values)\n",
    "\n",
    "# data and target\n",
    "X = df[ ['IsValidCodePage','Img86', 'Img48', '_onexit', 'GetIconInfo', 'ent_p_7', 'Img47', 'Img10', 'GetSystemTime', 'Img33'] ]\n",
    "Y = df['Class']\n",
    "\n",
    "# Cross-validation\n",
    "X_train, X_test, y_train, y_test = train_test_split( X, Y, test_size=0.4, random_state=0)\n",
    "\n",
    "# create model\n",
    "clf = svm.SVC()\n",
    "\n",
    "# fitting model\n",
    "clf.fit(X_train, y_train)\n",
    "\n",
    "# test data\n",
    "print \"Random forest selection feature\"\n",
    "print \"default parameter:\"\n",
    "print clf.score(X_test, y_test)\n"
   ]
  },
  {
   "cell_type": "code",
   "execution_count": 7,
   "metadata": {
    "collapsed": false
   },
   "outputs": [
    {
     "name": "stdout",
     "output_type": "stream",
     "text": [
      "(1, 0.72455978108470587)\n",
      "(5, 0.74802390798241625)\n",
      "(10, 0.747409226726097)\n"
     ]
    }
   ],
   "source": [
    "# CV\n",
    "depth = []\n",
    "for i in [1,5,10]:\n",
    "    clf = svm.SVC(C=i)\n",
    "    # Perform 5-fold cross validation \n",
    "    scores = cross_val_score(clf, X_train, y_train, cv=5)\n",
    "    depth.append((i,scores.mean()))\n",
    "for i in depth:\n",
    "    print i"
   ]
  },
  {
   "cell_type": "code",
   "execution_count": 4,
   "metadata": {
    "collapsed": false
   },
   "outputs": [
    {
     "name": "stdout",
     "output_type": "stream",
     "text": [
      "Fitting 3 folds for each of 6 candidates, totalling 18 fits\n",
      "[CV] kernel=sigmoid, C=1 .............................................\n",
      "[CV] kernel=sigmoid, C=1 .............................................\n",
      "[CV] kernel=sigmoid, C=1 .............................................\n",
      "[CV] kernel=rbf, C=1 .................................................\n",
      "[CV] .................... kernel=sigmoid, C=1, score=0.270594 -   4.7s\n",
      "[CV] kernel=rbf, C=1 .................................................\n",
      "[CV] .................... kernel=sigmoid, C=1, score=0.270096 -   4.9s\n",
      "[CV] .................... kernel=sigmoid, C=1, score=0.270507 -   4.9s\n",
      "[CV] kernel=rbf, C=1 .................................................\n",
      "[CV] kernel=sigmoid, C=5 .............................................\n",
      "[CV] .................... kernel=sigmoid, C=5, score=0.270096 -   4.6s\n",
      "[CV] kernel=sigmoid, C=5 .............................................\n",
      "[CV] ........................ kernel=rbf, C=1, score=0.698668 -  10.6s\n",
      "[CV] kernel=sigmoid, C=5 .............................................\n",
      "[CV] .................... kernel=sigmoid, C=5, score=0.270594 -   4.6s\n",
      "[CV] kernel=rbf, C=5 .................................................\n",
      "[CV] ........................ kernel=rbf, C=1, score=0.709158 -  10.7s\n",
      "[CV] kernel=rbf, C=5 .................................................\n",
      "[CV] ........................ kernel=rbf, C=1, score=0.715207 -  10.9s\n",
      "[CV] kernel=rbf, C=5 .................................................\n",
      "[CV] .................... kernel=sigmoid, C=5, score=0.270507 -   5.2s\n",
      "[CV] kernel=sigmoid, C=10 ............................................\n",
      "[CV] ................... kernel=sigmoid, C=10, score=0.270096 -   4.8s\n",
      "[CV] kernel=sigmoid, C=10 ............................................\n",
      "[CV] ................... kernel=sigmoid, C=10, score=0.270594 -   4.4s\n",
      "[CV] kernel=sigmoid, C=10 ............................................\n",
      "[CV] ........................ kernel=rbf, C=5, score=0.721176 -  11.5s\n",
      "[CV] kernel=rbf, C=10 ................................................\n",
      "[CV] ........................ kernel=rbf, C=5, score=0.730787 -  11.5s\n",
      "[CV] kernel=rbf, C=10 ................................................\n",
      "[CV] ........................ kernel=rbf, C=5, score=0.741935 -  11.4s\n",
      "[CV] kernel=rbf, C=10 ................................................\n",
      "[CV] ................... kernel=sigmoid, C=10, score=0.270507 -   4.6s\n",
      "[CV] ....................... kernel=rbf, C=10, score=0.720717 -  10.3s\n",
      "[CV] ....................... kernel=rbf, C=10, score=0.730787 -  10.3s\n",
      "[CV] ....................... kernel=rbf, C=10, score=0.742857 -  10.3s\n"
     ]
    },
    {
     "name": "stderr",
     "output_type": "stream",
     "text": [
      "[Parallel(n_jobs=4)]: Done  18 out of  18 | elapsed:   37.8s remaining:    0.0s\n",
      "[Parallel(n_jobs=4)]: Done  18 out of  18 | elapsed:   37.8s finished\n"
     ]
    },
    {
     "name": "stdout",
     "output_type": "stream",
     "text": [
      "(0.7314417177914111, {'kernel': 'rbf', 'C': 10})\n"
     ]
    }
   ],
   "source": [
    "# grid_search\n",
    "parameters = {'C':[1,5,10],'kernel':['sigmoid', 'rbf']}\n",
    "clf = grid_search.GridSearchCV(svm.SVC(), parameters, verbose = 3, n_jobs = 4)\n",
    "clf.fit(X_train , y_train)\n",
    "tree_model = clf.best_estimator_\n",
    "print (clf.best_score_, clf.best_params_) "
   ]
  },
  {
   "cell_type": "code",
   "execution_count": 2,
   "metadata": {
    "collapsed": false
   },
   "outputs": [
    {
     "name": "stdout",
     "output_type": "stream",
     "text": [
      "Lasso selection feature\n",
      "default parameter:\n",
      "0.942502299908\n"
     ]
    }
   ],
   "source": [
    "# Train data\n",
    "df = pd.read_csv('LargeTrain.csv')\n",
    "\n",
    "# columns\n",
    "columns =  list(df.columns.values)\n",
    "\n",
    "# data and target\n",
    "X = df[ ['dc_por','section_names_header', 'ent_q_diff_diffs_10', 'Img9', 'ent_q_diff_diffs_2_min', 'Img22', 'Img37', 'db3_NdNt', '__setusermatherr', 'Img48'] ]\n",
    "Y = df['Class']\n",
    "\n",
    "# Cross-validation\n",
    "X_train, X_test, y_train, y_test = train_test_split( X, Y, test_size=0.4, random_state=0)\n",
    "\n",
    "# create model\n",
    "clf = svm.SVC()\n",
    "\n",
    "# fitting model\n",
    "clf.fit(X_train, y_train)\n",
    "\n",
    "# test data\n",
    "print \"Lasso selection feature\"\n",
    "print \"default parameter:\"\n",
    "print clf.score(X_test, y_test)\n"
   ]
  },
  {
   "cell_type": "code",
   "execution_count": 4,
   "metadata": {
    "collapsed": false
   },
   "outputs": [
    {
     "name": "stdout",
     "output_type": "stream",
     "text": [
      "(1, 0.92285282243154065)\n",
      "(5, 0.94632346060375172)\n",
      "(10, 0.96227292960023958)\n"
     ]
    }
   ],
   "source": [
    "# CV\n",
    "depth = []\n",
    "for i in [1,5,10]:\n",
    "    clf = svm.SVC(C=i)\n",
    "    # Perform 5-fold cross validation \n",
    "    scores = cross_val_score(clf, X_train, y_train, cv=5)\n",
    "    depth.append((i,scores.mean()))\n",
    "for i in depth:\n",
    "    print i"
   ]
  },
  {
   "cell_type": "code",
   "execution_count": 3,
   "metadata": {
    "collapsed": false
   },
   "outputs": [
    {
     "name": "stdout",
     "output_type": "stream",
     "text": [
      "(0.9605828220858895, {'kernel': 'rbf', 'C': 10})\n"
     ]
    }
   ],
   "source": [
    "# grid_search\n",
    "parameters = {'C':[1,5,10],'kernel':['linear', 'rbf']}\n",
    "clf = grid_search.GridSearchCV(svm.SVC(), parameters)\n",
    "clf.fit(X_train , y_train)\n",
    "tree_model = clf.best_estimator_\n",
    "print (clf.best_score_, clf.best_params_) "
   ]
  },
  {
   "cell_type": "code",
   "execution_count": null,
   "metadata": {
    "collapsed": true
   },
   "outputs": [],
   "source": []
  }
 ],
 "metadata": {
  "anaconda-cloud": {},
  "kernelspec": {
   "display_name": "Python 2",
   "language": "python",
   "name": "python2"
  },
  "language_info": {
   "codemirror_mode": {
    "name": "ipython",
    "version": 2
   },
   "file_extension": ".py",
   "mimetype": "text/x-python",
   "name": "python",
   "nbconvert_exporter": "python",
   "pygments_lexer": "ipython2",
   "version": "2.7.12"
  }
 },
 "nbformat": 4,
 "nbformat_minor": 1
}
