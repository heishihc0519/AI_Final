{
 "cells": [
  {
   "cell_type": "code",
   "execution_count": 5,
   "metadata": {
    "collapsed": false
   },
   "outputs": [
    {
     "name": "stdout",
     "output_type": "stream",
     "text": [
      "Random forest selection feature\n",
      "default parameter:\n",
      "0.780818767249\n"
     ]
    }
   ],
   "source": [
    "from sklearn import neighbors\n",
    "from sklearn.model_selection import train_test_split\n",
    "from sklearn.cross_validation import cross_val_score\n",
    "from sklearn import grid_search\n",
    "import pandas as pd\n",
    "\n",
    "# Train data\n",
    "df = pd.read_csv('LargeTrain.csv')\n",
    "\n",
    "# columns\n",
    "columns =  list(df.columns.values)\n",
    "\n",
    "# data and target\n",
    "X = df[ ['IsValidCodePage','Img86', 'Img48', '_onexit', 'GetIconInfo', 'ent_p_7', 'Img47', 'Img10', 'GetSystemTime', 'Img33'] ]\n",
    "Y = df['Class']\n",
    "\n",
    "# Cross-validation\n",
    "X_train, X_test, y_train, y_test = train_test_split( X, Y, test_size=0.4, random_state=0)\n",
    "\n",
    "# create model\n",
    "clf = neighbors.KNeighborsClassifier()\n",
    "\n",
    "# fitting model\n",
    "clf.fit(X_train, y_train)\n",
    "\n",
    "# test data\n",
    "print \"Random forest selection feature\"\n",
    "print \"default parameter:\"\n",
    "print clf.score(X_test, y_test)\n"
   ]
  },
  {
   "cell_type": "code",
   "execution_count": 2,
   "metadata": {
    "collapsed": false
   },
   "outputs": [
    {
     "name": "stdout",
     "output_type": "stream",
     "text": [
      "(1, 0.83603516839735204)\n",
      "(2, 0.81274899513751098)\n",
      "(3, 0.81826904298788583)\n",
      "(4, 0.80815070855798177)\n",
      "(5, 0.80373463162591996)\n",
      "(6, 0.79913215133041882)\n",
      "(7, 0.7958212936011162)\n",
      "(8, 0.78928878501745003)\n",
      "(9, 0.78321306939946644)\n"
     ]
    }
   ],
   "source": [
    "# CV\n",
    "depth = []\n",
    "for i in range(1,10):\n",
    "    clf = neighbors.KNeighborsClassifier(n_neighbors=i)\n",
    "    # Perform 7-fold cross validation \n",
    "    scores = cross_val_score(clf, X, Y, cv=7)\n",
    "    depth.append((i,scores.mean()))\n",
    "for i in depth:\n",
    "    print i"
   ]
  },
  {
   "cell_type": "code",
   "execution_count": 3,
   "metadata": {
    "collapsed": false
   },
   "outputs": [
    {
     "name": "stdout",
     "output_type": "stream",
     "text": [
      "(0.8205741626794258, {'n_neighbors': 1, 'weights': 'uniform', 'leaf_size': 25, 'algorithm': 'auto'})\n"
     ]
    }
   ],
   "source": [
    "# grid_search\n",
    "parameters = {'n_neighbors':range(1,10,2),'leaf_size':range(25,35,2),\n",
    "              'algorithm': ['auto', 'ball_tree', 'kd_tree', 'brute'],\n",
    "                'weights': ['uniform','distance']}\n",
    "clf = grid_search.GridSearchCV(neighbors.KNeighborsClassifier(), parameters)\n",
    "clf.fit(X , Y)\n",
    "tree_model = clf.best_estimator_\n",
    "print (clf.best_score_, clf.best_params_) "
   ]
  },
  {
   "cell_type": "code",
   "execution_count": 7,
   "metadata": {
    "collapsed": false
   },
   "outputs": [
    {
     "name": "stdout",
     "output_type": "stream",
     "text": [
      "Lasso selection feature\n",
      "default parameter:\n",
      "0.978150873965\n"
     ]
    }
   ],
   "source": [
    "# Train data\n",
    "df = pd.read_csv('LargeTrain.csv')\n",
    "\n",
    "# columns\n",
    "columns =  list(df.columns.values)\n",
    "\n",
    "# data and target\n",
    "X = df[ ['dc_por','section_names_header', 'ent_q_diff_diffs_10', 'Img9', 'ent_q_diff_diffs_2_min', 'Img22', 'Img37', 'db3_NdNt', '__setusermatherr', 'Img48'] ]\n",
    "Y = df['Class']\n",
    "\n",
    "# Cross-validation\n",
    "X_train, X_test, y_train, y_test = train_test_split( X, Y, test_size=0.4, random_state=0)\n",
    "\n",
    "# create model\n",
    "clf = neighbors.KNeighborsClassifier()\n",
    "\n",
    "# fitting model\n",
    "clf.fit(X_train, y_train)\n",
    "\n",
    "# test data\n",
    "print \"Lasso selection feature\"\n",
    "print \"default parameter:\"\n",
    "print clf.score(X_test, y_test)\n"
   ]
  },
  {
   "cell_type": "code",
   "execution_count": 6,
   "metadata": {
    "collapsed": false
   },
   "outputs": [
    {
     "name": "stdout",
     "output_type": "stream",
     "text": [
      "(1, 0.83603516839735204)\n",
      "(2, 0.81274899513751098)\n",
      "(3, 0.81826904298788583)\n",
      "(4, 0.80815070855798177)\n",
      "(5, 0.80373463162591996)\n",
      "(6, 0.79913215133041882)\n",
      "(7, 0.7958212936011162)\n",
      "(8, 0.78928878501745003)\n",
      "(9, 0.78321306939946644)\n"
     ]
    }
   ],
   "source": [
    "# CV\n",
    "depth = []\n",
    "for i in range(1,10):\n",
    "    clf = neighbors.KNeighborsClassifier(n_neighbors=i)\n",
    "    # Perform 7-fold cross validation \n",
    "    scores = cross_val_score(clf, X, Y, cv=7)\n",
    "    depth.append((i,scores.mean()))\n",
    "for i in depth:\n",
    "    print i"
   ]
  },
  {
   "cell_type": "code",
   "execution_count": 8,
   "metadata": {
    "collapsed": false
   },
   "outputs": [
    {
     "name": "stdout",
     "output_type": "stream",
     "text": [
      "(0.9870261317629738, {'n_neighbors': 1, 'weights': 'uniform', 'leaf_size': 25, 'algorithm': 'auto'})\n"
     ]
    }
   ],
   "source": [
    "# grid_search\n",
    "parameters = {'n_neighbors':range(1,10,2),'leaf_size':range(25,35,2),\n",
    "              'algorithm': ['auto', 'ball_tree', 'kd_tree', 'brute'],\n",
    "                'weights': ['uniform','distance']}\n",
    "clf = grid_search.GridSearchCV(neighbors.KNeighborsClassifier(), parameters)\n",
    "clf.fit(X , Y)\n",
    "tree_model = clf.best_estimator_\n",
    "print (clf.best_score_, clf.best_params_) "
   ]
  },
  {
   "cell_type": "code",
   "execution_count": null,
   "metadata": {
    "collapsed": true
   },
   "outputs": [],
   "source": []
  }
 ],
 "metadata": {
  "anaconda-cloud": {},
  "kernelspec": {
   "display_name": "Python 2",
   "language": "python",
   "name": "python2"
  },
  "language_info": {
   "codemirror_mode": {
    "name": "ipython",
    "version": 2
   },
   "file_extension": ".py",
   "mimetype": "text/x-python",
   "name": "python",
   "nbconvert_exporter": "python",
   "pygments_lexer": "ipython2",
   "version": "2.7.12"
  }
 },
 "nbformat": 4,
 "nbformat_minor": 1
}
