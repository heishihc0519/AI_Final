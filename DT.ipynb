{
 "cells": [
  {
   "cell_type": "code",
   "execution_count": 1,
   "metadata": {
    "collapsed": false
   },
   "outputs": [
    {
     "name": "stderr",
     "output_type": "stream",
     "text": [
      "/usr/local/lib/python2.7/site-packages/sklearn/cross_validation.py:44: DeprecationWarning: This module was deprecated in version 0.18 in favor of the model_selection module into which all the refactored classes and functions are moved. Also note that the interface of the new CV iterators are different from that of this module. This module will be removed in 0.20.\n",
      "  \"This module will be removed in 0.20.\", DeprecationWarning)\n",
      "/usr/local/lib/python2.7/site-packages/sklearn/grid_search.py:43: DeprecationWarning: This module was deprecated in version 0.18 in favor of the model_selection module into which all the refactored classes and functions are moved. This module will be removed in 0.20.\n",
      "  DeprecationWarning)\n",
      "/usr/local/lib/python2.7/site-packages/pandas/computation/__init__.py:19: UserWarning: The installed version of numexpr 2.4.4 is not supported in pandas and will be not be used\n",
      "\n",
      "  UserWarning)\n"
     ]
    },
    {
     "name": "stdout",
     "output_type": "stream",
     "text": [
      "Random forest selection feature\n",
      "default parameter:\n",
      "0.964351425943\n"
     ]
    }
   ],
   "source": [
    "from sklearn import tree\n",
    "from sklearn.model_selection import train_test_split\n",
    "from sklearn.cross_validation import cross_val_score\n",
    "from sklearn import grid_search\n",
    "import pandas as pd\n",
    "\n",
    "# Train data\n",
    "df = pd.read_csv('LargeTrain.csv')\n",
    "\n",
    "# columns\n",
    "columns =  list(df.columns.values)\n",
    "\n",
    "# data and target\n",
    "X = df[ ['IsValidCodePage','Img86', 'Img48', '_onexit', 'GetIconInfo', 'ent_p_7', 'Img47', 'Img10', 'GetSystemTime', 'Img33'] ]\n",
    "Y = df['Class']\n",
    "\n",
    "# Cross-validation\n",
    "X_train, X_test, y_train, y_test = train_test_split( X, Y, test_size=0.4, random_state=0)\n",
    "\n",
    "# create model\n",
    "clf = tree.DecisionTreeClassifier()\n",
    "\n",
    "# fitting model\n",
    "clf.fit(X_train, y_train)\n",
    "\n",
    "# test data\n",
    "print \"Random forest selection feature\"\n",
    "print \"default parameter:\"\n",
    "print clf.score(X_test, y_test)\n"
   ]
  },
  {
   "cell_type": "code",
   "execution_count": 2,
   "metadata": {
    "collapsed": false
   },
   "outputs": [
    {
     "name": "stdout",
     "output_type": "stream",
     "text": [
      "(3, 0.73776073394760533)\n",
      "(4, 0.78027497083196251)\n",
      "(5, 0.84597072084274794)\n",
      "(6, 0.8658442859451656)\n",
      "(7, 0.88590099063386119)\n",
      "(8, 0.91203661615274445)\n",
      "(9, 0.93199980012303951)\n",
      "(10, 0.94460826904469986)\n",
      "(11, 0.95252095623218247)\n",
      "(12, 0.95804190147004908)\n",
      "(13, 0.96126183553710243)\n",
      "(14, 0.96163186419241864)\n",
      "(15, 0.96153945777400651)\n",
      "(16, 0.96282616529899534)\n",
      "(17, 0.96154023043204762)\n",
      "(18, 0.96154052403854728)\n",
      "(19, 0.96172426259196919)\n"
     ]
    }
   ],
   "source": [
    "# CV\n",
    "depth = []\n",
    "for i in range(3,20):\n",
    "    clf = tree.DecisionTreeClassifier(max_depth=i)\n",
    "    # Perform 7-fold cross validation \n",
    "    scores = cross_val_score(clf, X, Y, cv=7)\n",
    "    depth.append((i,scores.mean()))\n",
    "for i in depth:\n",
    "    print i"
   ]
  },
  {
   "cell_type": "code",
   "execution_count": 3,
   "metadata": {
    "collapsed": false
   },
   "outputs": [
    {
     "name": "stdout",
     "output_type": "stream",
     "text": [
      "(0.9627346337872653, {'criterion': 'entropy', 'max_depth': 17})\n"
     ]
    }
   ],
   "source": [
    "# grid_search\n",
    "parameters = {'max_depth':range(3,20),'criterion':['gini','entropy']}\n",
    "clf = grid_search.GridSearchCV(tree.DecisionTreeClassifier(), parameters)\n",
    "clf.fit(X , Y)\n",
    "tree_model = clf.best_estimator_\n",
    "print (clf.best_score_, clf.best_params_)"
   ]
  },
  {
   "cell_type": "code",
   "execution_count": null,
   "metadata": {
    "collapsed": false
   },
   "outputs": [],
   "source": []
  },
  {
   "cell_type": "code",
   "execution_count": 9,
   "metadata": {
    "collapsed": false
   },
   "outputs": [
    {
     "name": "stdout",
     "output_type": "stream",
     "text": [
      "Lasso selection feature\n",
      "default parameter:\n",
      "0.980450781969\n"
     ]
    }
   ],
   "source": [
    "# Train data\n",
    "df = pd.read_csv('LargeTrain.csv')\n",
    "\n",
    "# columns\n",
    "columns =  list(df.columns.values)\n",
    "\n",
    "# data and target\n",
    "lasso = ['dc_por','section_names_header', 'ent_q_diff_diffs_10', 'Img9', 'ent_q_diff_diffs_2_min', 'Img22', 'Img37', 'db3_NdNt', '__setusermatherr', 'Img48']\n",
    "X = df[ lasso ]\n",
    "Y = df['Class']\n",
    "\n",
    "# Cross-validation\n",
    "X_train, X_test, y_train, y_test = train_test_split( X, Y, test_size=0.4, random_state=0)\n",
    "\n",
    "# create model\n",
    "clf = tree.DecisionTreeClassifier()\n",
    "\n",
    "# fitting model\n",
    "clf.fit(X_train, y_train)\n",
    "\n",
    "# test data\n",
    "print \"Lasso selection feature\"\n",
    "print \"default parameter:\"\n",
    "print clf.score(X_test, y_test)\n"
   ]
  },
  {
   "cell_type": "code",
   "execution_count": 5,
   "metadata": {
    "collapsed": false
   },
   "outputs": [
    {
     "name": "stdout",
     "output_type": "stream",
     "text": [
      "(3, 0.74530831226193406)\n",
      "(4, 0.8356627839488866)\n",
      "(5, 0.92602229464839236)\n",
      "(6, 0.95721406605669279)\n",
      "(7, 0.97083090130195315)\n",
      "(8, 0.97856127786013858)\n",
      "(9, 0.98067943089805876)\n",
      "(10, 0.9825188363186409)\n",
      "(11, 0.98435907038104553)\n",
      "(12, 0.98426708305874044)\n",
      "(13, 0.98546381587048815)\n",
      "(14, 0.98546322201612824)\n",
      "(15, 0.98573930581054447)\n",
      "(16, 0.98537016759151286)\n",
      "(17, 0.98509384900609243)\n",
      "(18, 0.98583034434289429)\n",
      "(19, 0.98472601611880051)\n"
     ]
    }
   ],
   "source": [
    "# CV\n",
    "depth = []\n",
    "for i in range(3,20):\n",
    "    clf = tree.DecisionTreeClassifier(max_depth=i)\n",
    "    # Perform 7-fold cross validation \n",
    "    scores = cross_val_score(clf, X, Y, cv=7)\n",
    "    depth.append((i,scores.mean()))\n",
    "for i in depth:\n",
    "    print i"
   ]
  },
  {
   "cell_type": "code",
   "execution_count": 6,
   "metadata": {
    "collapsed": false
   },
   "outputs": [
    {
     "name": "stdout",
     "output_type": "stream",
     "text": [
      "(0.9840817077659183, {'criterion': 'gini', 'max_depth': 13})\n"
     ]
    }
   ],
   "source": [
    "# grid_search\n",
    "parameters = {'max_depth':range(3,20),'criterion':['gini','entropy']}\n",
    "clf = grid_search.GridSearchCV(tree.DecisionTreeClassifier(), parameters)\n",
    "clf.fit(X , Y)\n",
    "tree_model = clf.best_estimator_\n",
    "print (clf.best_score_, clf.best_params_)"
   ]
  },
  {
   "cell_type": "code",
   "execution_count": null,
   "metadata": {
    "collapsed": false
   },
   "outputs": [],
   "source": []
  }
 ],
 "metadata": {
  "anaconda-cloud": {},
  "kernelspec": {
   "display_name": "Python 2",
   "language": "python",
   "name": "python2"
  },
  "language_info": {
   "codemirror_mode": {
    "name": "ipython",
    "version": 2
   },
   "file_extension": ".py",
   "mimetype": "text/x-python",
   "name": "python",
   "nbconvert_exporter": "python",
   "pygments_lexer": "ipython2",
   "version": "2.7.12"
  }
 },
 "nbformat": 4,
 "nbformat_minor": 1
}
