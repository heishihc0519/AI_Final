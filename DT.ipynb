{
 "cells": [
  {
   "cell_type": "code",
   "execution_count": 4,
   "metadata": {
    "collapsed": false
   },
   "outputs": [
    {
     "name": "stdout",
     "output_type": "stream",
     "text": [
      "default parameter:\n",
      "0.964121435143\n"
     ]
    }
   ],
   "source": [
    "from sklearn import tree\n",
    "from sklearn.model_selection import train_test_split\n",
    "from sklearn.cross_validation import cross_val_score\n",
    "from sklearn import grid_search\n",
    "import pandas as pd\n",
    "\n",
    "# Train data\n",
    "df = pd.read_csv('LargeTrain.csv')\n",
    "\n",
    "# columns\n",
    "columns =  list(df.columns.values)\n",
    "\n",
    "# data and target\n",
    "X = df[ ['IsValidCodePage','Img86', 'Img48', '_onexit', 'GetIconInfo', 'ent_p_7', 'Img47', 'Img10', 'GetSystemTime', 'Img33'] ]\n",
    "Y = df['Class']\n",
    "\n",
    "# Cross-validation\n",
    "X_train, X_test, y_train, y_test = train_test_split( X, Y, test_size=0.4, random_state=0)\n",
    "\n",
    "# create model\n",
    "clf = tree.DecisionTreeClassifier()\n",
    "\n",
    "# fitting model\n",
    "clf.fit(X_train, y_train)\n",
    "\n",
    "# test data\n",
    "print \"default parameter:\"\n",
    "print clf.score(X_test, y_test)\n"
   ]
  },
  {
   "cell_type": "code",
   "execution_count": 7,
   "metadata": {
    "collapsed": false
   },
   "outputs": [
    {
     "name": "stdout",
     "output_type": "stream",
     "text": [
      "(3, 0.73776073394760533)\n",
      "(4, 0.7801829237038328)\n",
      "(5, 0.84597060230169441)\n",
      "(6, 0.8657521797752058)\n",
      "(7, 0.88498128819033717)\n",
      "(8, 0.91222065167348076)\n",
      "(9, 0.93209166829256251)\n",
      "(10, 0.94488328520179998)\n",
      "(11, 0.95233727580107908)\n",
      "(12, 0.95721418512655287)\n",
      "(13, 0.9611702657082527)\n",
      "(14, 0.96218379225282358)\n",
      "(15, 0.96209393615617667)\n",
      "(16, 0.96236876999415144)\n",
      "(17, 0.96347286495670748)\n",
      "(18, 0.96301256959020332)\n",
      "(19, 0.96273684172319129)\n"
     ]
    }
   ],
   "source": [
    "# CV\n",
    "depth = []\n",
    "for i in range(3,20):\n",
    "    clf = tree.DecisionTreeClassifier(max_depth=i)\n",
    "    # Perform 7-fold cross validation \n",
    "    scores = cross_val_score(clf, X, Y, cv=7)\n",
    "    depth.append((i,scores.mean()))\n",
    "for i in depth:\n",
    "    print i"
   ]
  },
  {
   "cell_type": "code",
   "execution_count": 6,
   "metadata": {
    "collapsed": false
   },
   "outputs": [
    {
     "name": "stdout",
     "output_type": "stream",
     "text": [
      "(0.9619985277880014, {'max_depth': 17})\n"
     ]
    }
   ],
   "source": [
    "# grid_search\n",
    "parameters = {'max_depth':range(3,20)}\n",
    "clf = grid_search.GridSearchCV(tree.DecisionTreeClassifier(), parameters)\n",
    "clf.fit(X , Y)\n",
    "tree_model = clf.best_estimator_\n",
    "print (clf.best_score_, clf.best_params_) "
   ]
  },
  {
   "cell_type": "code",
   "execution_count": null,
   "metadata": {
    "collapsed": true
   },
   "outputs": [],
   "source": []
  }
 ],
 "metadata": {
  "anaconda-cloud": {},
  "kernelspec": {
   "display_name": "Python 2",
   "language": "python",
   "name": "python2"
  },
  "language_info": {
   "codemirror_mode": {
    "name": "ipython",
    "version": 2
   },
   "file_extension": ".py",
   "mimetype": "text/x-python",
   "name": "python",
   "nbconvert_exporter": "python",
   "pygments_lexer": "ipython2",
   "version": "2.7.12"
  }
 },
 "nbformat": 4,
 "nbformat_minor": 1
}
